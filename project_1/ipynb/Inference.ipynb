{
 "cells": [
  {
   "cell_type": "code",
   "execution_count": 3,
   "metadata": {},
   "outputs": [
    {
     "name": "stderr",
     "output_type": "stream",
     "text": [
      "Using TensorFlow backend.\n"
     ]
    }
   ],
   "source": [
    "import numpy as np\n",
    "import pandas as pd\n",
    "import pydicom\n",
    "%matplotlib inline\n",
    "import matplotlib.pyplot as plt\n",
    "import keras \n",
    "#import cv2\n",
    "from skimage.transform import resize\n",
    "\n",
    "from tensorflow.keras.models import model_from_json\n"
   ]
  },
  {
   "cell_type": "code",
   "execution_count": 11,
   "metadata": {},
   "outputs": [],
   "source": [
    "# This function reads in a .dcm file, checks the important fields for our device, and returns a numpy array\n",
    "# of just the imaging data\n",
    "def check_dicom(filename): \n",
    "    print('Load file {} ...'.format(filename))\n",
    "    ds = pydicom.dcmread(filename)       \n",
    "    \n",
    "    # Display some key metadata\n",
    "    #print('Patient Name:', ds.get('PatientName', 'N/A'))\n",
    "    #print('Modality:', ds.get('Modality', 'N/A'))\n",
    "    #print('Study Date:', ds.get('StudyDate', 'N/A'))\n",
    "    print('Label:', ds.get('StudyDescription', 'N/A'))\n",
    "    #print('Series Description:', ds.get('SeriesDescription', 'N/A'))\n",
    "    #print('Image Comments:', ds.get('ImageComments', 'N/A'))\n",
    "    #print('Protocol Name:', ds.get('ProtocolName', 'N/A'))\n",
    "    \n",
    "    img = ds.pixel_array\n",
    "    return img\n",
    "\n",
    "# This function takes the numpy array output by check_dicom and \n",
    "# runs the appropriate pre-processing needed for our model input\n",
    "def preprocess_image(img,img_mean,img_std,img_size): \n",
    "    # Resize the image to the target size\n",
    "    # print(img.shape)\n",
    "    # print(img.ndim)\n",
    "    resized_image = resize(img, img_size, anti_aliasing=True)\n",
    "    #resized_image = cv2.resize(img, img_size)    \n",
    "    # Convert the image to float32 for normalization\n",
    "    normalized_image = resized_image.astype(np.float32)\n",
    "    normalized_image = (normalized_image - img_mean) / img_std\n",
    "    return normalized_image\n",
    "        \n",
    "\n",
    "# This function loads in our trained model w/ weights and compiles it \n",
    "def load_model(model_path, weight_path):\n",
    "    # Load the JSON file\n",
    "    with open(model_path, \"r\") as json_file:\n",
    "        mode_json = json_file.read()\n",
    "    model = model_from_json(mode_json)\n",
    "    model.load_weights(weight_path)\n",
    "    return model\n",
    "\n",
    "# This function uses our device's threshold parameters to predict whether or not\n",
    "# the image shows the presence of pneumonia using our trained model\n",
    "def predict_image(model, img, thresh): \n",
    "    prediction = model.predict(img, verbose = True)\n",
    "    return prediction "
   ]
  },
  {
   "cell_type": "code",
   "execution_count": 13,
   "metadata": {},
   "outputs": [
    {
     "name": "stdout",
     "output_type": "stream",
     "text": [
      "Load file test1.dcm ...\n",
      "Label: No Finding\n",
      "1/1 [==============================] - 1s 1s/sample\n",
      "prediction: NO_PNEUMONIA\n",
      "Load file test2.dcm ...\n",
      "Label: Cardiomegaly\n",
      "1/1 [==============================] - 1s 1s/sample\n",
      "prediction: NO_PNEUMONIA\n",
      "Load file test3.dcm ...\n",
      "Label: Effusion\n",
      "1/1 [==============================] - 1s 956ms/sample\n",
      "prediction: NO_PNEUMONIA\n",
      "Load file test4.dcm ...\n",
      "Label: No Finding\n",
      "1/1 [==============================] - 1s 964ms/sample\n",
      "prediction: NO_PNEUMONIA\n",
      "Load file test5.dcm ...\n",
      "Label: No Finding\n",
      "1/1 [==============================] - 1s 932ms/sample\n",
      "prediction: NO_PNEUMONIA\n",
      "Load file test6.dcm ...\n",
      "Label: No Finding\n",
      "1/1 [==============================] - 1s 913ms/sample\n",
      "prediction: NO_PNEUMONIA\n"
     ]
    }
   ],
   "source": [
    "test_dicoms = ['test1.dcm','test2.dcm','test3.dcm','test4.dcm','test5.dcm','test6.dcm']\n",
    "\n",
    "model_path =  '/workspace/home/best/VGG16_1.0_n512_l_r_0.001_l0.0001_dr_0.1_l2_0.0001_d0.5_b128.json'\n",
    "weight_path = '/workspace/home/best/VGG16_1.0_n512_l_r_0.001_l0.0001_dr_0.1_l2_0.0001_d0.5_b128_loss.h5'\n",
    "\n",
    "\n",
    "IMG_SIZE=(1,224,224,3) # This might be different if you did not use vgg16\n",
    "img_mean = 0# loads the mean image value they used during training preprocessing\n",
    "img_std = 0# loads the std dev image value they used during training preprocessing\n",
    "\n",
    "my_model = load_model(model_path, weight_path)\n",
    "thresh = 0.4142516\n",
    "categories = ['NO_PNEUMONIA','PNEUMONIA'] \n",
    "\n",
    "# use the .dcm files to test your prediction\n",
    "for i in test_dicoms:\n",
    "    \n",
    "    img = np.array([])\n",
    "    img = check_dicom(i)\n",
    "    \n",
    "    if img is None:\n",
    "        continue\n",
    "    img_mean = np.mean(img)\n",
    "    img_std = np.std(img)\n",
    "            \n",
    "    img_proc = preprocess_image(img,img_mean,img_std,IMG_SIZE)\n",
    "    pred = predict_image(my_model,img_proc,thresh)\n",
    "    pred_t = (pred[0,1]>thresh).astype(int)\n",
    "    print(f'prediction: {categories[pred_t]}')\n"
   ]
  }
 ],
 "metadata": {
  "kernelspec": {
   "display_name": "Python 3",
   "language": "python",
   "name": "python3"
  },
  "language_info": {
   "codemirror_mode": {
    "name": "ipython",
    "version": 3
   },
   "file_extension": ".py",
   "mimetype": "text/x-python",
   "name": "python",
   "nbconvert_exporter": "python",
   "pygments_lexer": "ipython3",
   "version": "3.7.6"
  }
 },
 "nbformat": 4,
 "nbformat_minor": 2
}
